{
 "cells": [
  {
   "cell_type": "code",
   "execution_count": 1,
   "metadata": {},
   "outputs": [],
   "source": [
    "# Import ElasticSearch\n",
    "from elasticsearch import Elasticsearch"
   ]
  },
  {
   "cell_type": "code",
   "execution_count": 2,
   "metadata": {},
   "outputs": [],
   "source": [
    "# Connect to ElasticSearch\n",
    "es_conn = Elasticsearch('localhost:9200')"
   ]
  },
  {
   "cell_type": "code",
   "execution_count": 3,
   "metadata": {},
   "outputs": [],
   "source": [
    "# Match Query\n",
    "def match_query(keyword):\n",
    "    query={\"query\":{\"match\":{\"text\":keyword}}}\n",
    "    response = es_conn.search(index= 'twitter', doc_type= 'doc', body = query)\n",
    "    if response.get('hits', {}).get('total', 0) > 0:\n",
    "        return response['hits']['hits'][0]['_source']['text']"
   ]
  },
  {
   "cell_type": "code",
   "execution_count": 4,
   "metadata": {},
   "outputs": [
    {
     "data": {
      "text/plain": [
       "'I wonder if I can just read Spark Notes on Game of Thrones to be all caught up. I don’t want to sit through all of them episodes 😩😂'"
      ]
     },
     "execution_count": 4,
     "metadata": {},
     "output_type": "execute_result"
    }
   ],
   "source": [
    "match_query(\"game of thrones\")"
   ]
  },
  {
   "cell_type": "code",
   "execution_count": 5,
   "metadata": {},
   "outputs": [],
   "source": [
    "# Match Query with And Operator\n",
    "def match_query_with_AND_operator(keyword):\n",
    "    query={\"query\":{\"match\" : { \"text\":{\"query\":keyword,\"operator\":\"and\"}}}}\n",
    "    response = es_conn.search(index= 'twitter', doc_type= 'doc', body = query)\n",
    "    if response.get('hits', {}).get('total', 0) > 0:\n",
    "        return response['hits']['hits'][0]['_source']['text']"
   ]
  },
  {
   "cell_type": "code",
   "execution_count": 6,
   "metadata": {},
   "outputs": [
    {
     "data": {
      "text/plain": [
       "\"An absolute beginner's guide to machine learning, deep learning, and AI\\n#machinelearning #deeplearning… https://t.co/uzMWhDls03\""
      ]
     },
     "execution_count": 6,
     "metadata": {},
     "output_type": "execute_result"
    }
   ],
   "source": [
    "match_query_with_AND_operator('MachineLearning DeepLearning')"
   ]
  },
  {
   "cell_type": "code",
   "execution_count": 7,
   "metadata": {},
   "outputs": [],
   "source": [
    "# Aggregation Query\n",
    "def aggregation_query():\n",
    "    query={\n",
    "        \"size\": 0,\n",
    "        \"aggs\": {\n",
    "            \"range\": {\n",
    "                \"date_range\": {\n",
    "                    \"field\": \"timestamp\",\n",
    "                    \"ranges\": [\n",
    "                        {\n",
    "                            \"key\":\"older\",\n",
    "                            \"to\": \"2019-04-04T23:22:48\"\n",
    "                        },\n",
    "                        {\n",
    "                            \"key\":\"new\",\n",
    "                            \"from\": \"2019-04-04T23:22:48\"\n",
    "                        }\n",
    "                    ]\n",
    "                }\n",
    "            }\n",
    "        }\n",
    "    }\n",
    "    response = es_conn.search(index= 'twitter', doc_type= 'doc', body = query)\n",
    "    return response"
   ]
  },
  {
   "cell_type": "code",
   "execution_count": 8,
   "metadata": {},
   "outputs": [
    {
     "data": {
      "text/plain": [
       "{'took': 6,\n",
       " 'timed_out': False,\n",
       " '_shards': {'total': 5, 'successful': 5, 'skipped': 0, 'failed': 0},\n",
       " 'hits': {'total': 3813, 'max_score': 0.0, 'hits': []},\n",
       " 'aggregations': {'range': {'buckets': [{'key': 'older',\n",
       "     'to': 1554420168000.0,\n",
       "     'to_as_string': '2019-04-04T23:22:48.000Z',\n",
       "     'doc_count': 0},\n",
       "    {'key': 'new',\n",
       "     'from': 1554420168000.0,\n",
       "     'from_as_string': '2019-04-04T23:22:48.000Z',\n",
       "     'doc_count': 3813}]}}}"
      ]
     },
     "execution_count": 8,
     "metadata": {},
     "output_type": "execute_result"
    }
   ],
   "source": [
    "aggregation_query()"
   ]
  },
  {
   "cell_type": "code",
   "execution_count": 9,
   "metadata": {},
   "outputs": [],
   "source": [
    "# Term Query\n",
    "def term_query(term):\n",
    "    query={\"query\":{\"term\":{\"timestamp\":term}}}\n",
    "    response = es_conn.search(index= 'twitter', doc_type= 'doc', body = query)\n",
    "    if response.get('hits', {}).get('total', 0) > 0:\n",
    "        return response['hits']['hits'][0]['_source']['text']"
   ]
  },
  {
   "cell_type": "code",
   "execution_count": 10,
   "metadata": {},
   "outputs": [
    {
     "data": {
      "text/plain": [
       "'RT @ayoootrini: Do you love him ?\\nDoes he love you ? \\n\\nRuby: dId hE sAy iT tO yOu ?\\n\\nJamal: wiTh hIs wOrDs oR LiKe wItH hIs aCtIoNs?'"
      ]
     },
     "execution_count": 10,
     "metadata": {},
     "output_type": "execute_result"
    }
   ],
   "source": [
    "term_query(\"2019-04-05T00:49:11\")"
   ]
  },
  {
   "cell_type": "code",
   "execution_count": 11,
   "metadata": {},
   "outputs": [],
   "source": [
    "# Range Query\n",
    "def range_query():\n",
    "    query={\n",
    "        \"query\":{\n",
    "            \"range\" : {\n",
    "                \"timestamp\" : {\n",
    "                    \"gt\" : \"2019-04-05T00:49:48\",\n",
    "                    \"lt\" : \"2019-04-05T00:55:09\"\n",
    "                }\n",
    "            }\n",
    "        }\n",
    "    }\n",
    "    response = es_conn.search(index= 'twitter', doc_type= 'doc', body = query)\n",
    "    return response"
   ]
  },
  {
   "cell_type": "code",
   "execution_count": 12,
   "metadata": {},
   "outputs": [
    {
     "data": {
      "text/plain": [
       "{'took': 10,\n",
       " 'timed_out': False,\n",
       " '_shards': {'total': 5, 'successful': 5, 'skipped': 0, 'failed': 0},\n",
       " 'hits': {'total': 404,\n",
       "  'max_score': 1.0,\n",
       "  'hits': [{'_index': 'twitter',\n",
       "    '_type': 'doc',\n",
       "    '_id': 'W1X66mkBw511dJ3TZH31',\n",
       "    '_score': 1.0,\n",
       "    '_source': {'text': 'Faculty Senate works to ease concerns about data science school https://t.co/cpLHGaX3Ze',\n",
       "     'timestamp': '2019-04-05T00:51:02'}},\n",
       "   {'_index': 'twitter',\n",
       "    '_type': 'doc',\n",
       "    '_id': 'XFX66mkBw511dJ3TZH31',\n",
       "    '_score': 1.0,\n",
       "    '_source': {'text': 'RT @realpython: 🐍 Do you enjoy your twice weekly articles from us? Do you find them useful and enriching? \\n\\nIf yes, please consider helping…',\n",
       "     'timestamp': '2019-04-05T00:50:58'}},\n",
       "   {'_index': 'twitter',\n",
       "    '_type': 'doc',\n",
       "    '_id': 'XVX66mkBw511dJ3TZH31',\n",
       "    '_score': 1.0,\n",
       "    '_source': {'text': 'You proud you Saving that cheese? Shiiit it’s prob someone that follow you that needed to see you say you’re doing it. Spark someone’s fire',\n",
       "     'timestamp': '2019-04-05T00:51:00'}},\n",
       "   {'_index': 'twitter',\n",
       "    '_type': 'doc',\n",
       "    '_id': 'XlX66mkBw511dJ3TZH31',\n",
       "    '_score': 1.0,\n",
       "    '_source': {'text': 'Apple Hires Google Brain Ian Goodfellow as Director of Machine Learning in Apples Special Projects (Jack Purcher/Pa… https://t.co/ZhYsrb8Ocz',\n",
       "     'timestamp': '2019-04-05T00:51:02'}},\n",
       "   {'_index': 'twitter',\n",
       "    '_type': 'doc',\n",
       "    '_id': 'YFX66mkBw511dJ3TZH31',\n",
       "    '_score': 1.0,\n",
       "    '_source': {'text': \"RT @cbcdaveseglins: Did taxpayers unwittingly back foreign bribes???? SNC-Lavalin insider's bribery allegations spark probe by Crown agency…\",\n",
       "     'timestamp': '2019-04-05T00:51:06'}},\n",
       "   {'_index': 'twitter',\n",
       "    '_type': 'doc',\n",
       "    '_id': 'NFX66mkBw511dJ3TFn27',\n",
       "    '_score': 1.0,\n",
       "    '_source': {'text': \"@RenTheMasked [I'm finding Ruby so I can make amends with her, and I know truth behind my boss' death.]\",\n",
       "     'timestamp': '2019-04-05T00:50:45'}},\n",
       "   {'_index': 'twitter',\n",
       "    '_type': 'doc',\n",
       "    '_id': 'PlX66mkBw511dJ3TFn2-',\n",
       "    '_score': 1.0,\n",
       "    '_source': {'text': 'RT @StatMLPapers: Exponential inequalities for nonstationary Markov Chains. (arXiv:1808.08811v2 [https://t.co/zjV5HgYw5a] UPDATED) https://…',\n",
       "     'timestamp': '2019-04-05T00:50:37'}},\n",
       "   {'_index': 'twitter',\n",
       "    '_type': 'doc',\n",
       "    '_id': 'QVX66mkBw511dJ3TFn2-',\n",
       "    '_score': 1.0,\n",
       "    '_source': {'text': 'RT @aprilaser: I wrote about how birds and plants need online privacy, too, as poachers take to open-data citizen science projects and soci…',\n",
       "     'timestamp': '2019-04-05T00:50:44'}},\n",
       "   {'_index': 'twitter',\n",
       "    '_type': 'doc',\n",
       "    '_id': 'Z1X66mkBw511dJ3TjH0G',\n",
       "    '_score': 1.0,\n",
       "    '_source': {'text': 'Two books that have had an insanely positive impact on my life by teaching me how to take better care of myself are… https://t.co/JdvmxLYCS0',\n",
       "     'timestamp': '2019-04-05T00:51:08'}},\n",
       "   {'_index': 'twitter',\n",
       "    '_type': 'doc',\n",
       "    '_id': 'bVX66mkBw511dJ3TjH0J',\n",
       "    '_score': 1.0,\n",
       "    '_source': {'text': \"@RenTheMasked [I'm finding Ruby so I can make amends with her, and I know the truth behind my boss' death.]\",\n",
       "     'timestamp': '2019-04-05T00:51:10'}}]}}"
      ]
     },
     "execution_count": 12,
     "metadata": {},
     "output_type": "execute_result"
    }
   ],
   "source": [
    "range_query()"
   ]
  },
  {
   "cell_type": "code",
   "execution_count": null,
   "metadata": {},
   "outputs": [],
   "source": []
  }
 ],
 "metadata": {
  "kernelspec": {
   "display_name": "Python 3",
   "language": "python",
   "name": "python3"
  },
  "language_info": {
   "codemirror_mode": {
    "name": "ipython",
    "version": 3
   },
   "file_extension": ".py",
   "mimetype": "text/x-python",
   "name": "python",
   "nbconvert_exporter": "python",
   "pygments_lexer": "ipython3",
   "version": "3.6.5"
  }
 },
 "nbformat": 4,
 "nbformat_minor": 2
}
