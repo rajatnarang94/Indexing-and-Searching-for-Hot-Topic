{
 "cells": [
  {
   "cell_type": "code",
   "execution_count": 1,
   "metadata": {},
   "outputs": [],
   "source": [
    "# Import all the requirements\n",
    "import configparser\n",
    "import tweepy\n",
    "from kafka import SimpleProducer, KafkaClient\n",
    "import json\n",
    "from datetime import datetime"
   ]
  },
  {
   "cell_type": "code",
   "execution_count": 2,
   "metadata": {},
   "outputs": [],
   "source": [
    "class TwitterStreamListener(tweepy.StreamListener):\n",
    "    # A class to read the tweet tream and push it to Kafka\n",
    "    def __init__(self, api):\n",
    "        self.api = api\n",
    "        super(tweepy.StreamListener, self).__init__()\n",
    "        client = KafkaClient(\"localhost:9092\")\n",
    "        self.producer = SimpleProducer(client, async = True,\n",
    "                          batch_send_every_n = 1000, batch_send_every_t = 10)\n",
    "        \n",
    "    def on_status(self, status):\n",
    "        # This method is called whenever new data arrives from live stream.\n",
    "        # We asynchronously push this data to kafka queue\n",
    "        timestamp = int(status.timestamp_ms)//1000\n",
    "        isoformat_date = datetime.utcfromtimestamp(timestamp).isoformat()\n",
    "        msg = json.dumps({\"text\":status.text, \"timestamp\": isoformat_date}).encode()\n",
    "        print(msg)\n",
    "        try:\n",
    "            self.producer.send_messages('got', msg)\n",
    "        except Exception as e:\n",
    "            print('--',e)\n",
    "            return False\n",
    "        return True\n",
    "    \n",
    "    def on_error(self, status_code):\n",
    "        print(\"Error received in kafka producer\", status_code, self)\n",
    "        return True # Don't kill the stream\n",
    "\n",
    "    def on_timeout(self):\n",
    "        return True # Don't kill the stream"
   ]
  },
  {
   "cell_type": "code",
   "execution_count": null,
   "metadata": {},
   "outputs": [
    {
     "name": "stdout",
     "output_type": "stream",
     "text": [
      "b'{\"text\": \"RT @thronesfacts: #GameofThrones S8 E3\\'s the Battle of Winterfell took 55 nights just to film the fight scenes \\\\u2694\\\\ufe0f\\\\n\\\\nThe previous record was\\\\u2026\", \"timestamp\": \"2019-04-27T18:49:06\"}'\n",
      "b'{\"text\": \"RT @Lupita_Nyongo: Waiting for #gameofthrones tomorrow like... https://t.co/2rhFSU1Fgm\", \"timestamp\": \"2019-04-27T18:49:07\"}'\n",
      "b'{\"text\": \"@HBO ruining everyone\\\\u2019s weekends \\\\ud83d\\\\ude02 start the show already! \\\\ud83d\\\\udc3a\", \"timestamp\": \"2019-04-27T18:49:08\"}'\n",
      "b'{\"text\": \"RT @Lupita_Nyongo: Waiting for #gameofthrones tomorrow like... https://t.co/2rhFSU1Fgm\", \"timestamp\": \"2019-04-27T18:49:10\"}'\n",
      "b'{\"text\": \"RT @irresistewart: I got through #AvengersEndgame (barely - not entirely - ok, I\\'m still grieving, I\\'ll never get over it)\\\\n\\\\nSo\\\\nI can also g\\\\u2026\", \"timestamp\": \"2019-04-27T18:49:11\"}'\n",
      "b'{\"text\": \"RT @Mets: Send a raven (or just RT) for your chance to win a @Noahsyndergaard #GameofThrones bobblehead! https://t.co/OXvoZkr7Bt\", \"timestamp\": \"2019-04-27T18:49:12\"}'\n",
      "b'{\"text\": \"RT @LordSnow: Pray for the Starks this weekend \\\\ud83d\\\\ude4f #GameOfThrones #Avengers https://t.co/x5yFiG02kj\", \"timestamp\": \"2019-04-27T18:49:13\"}'\n",
      "b'{\"text\": \"RT @dreadnstyn: How many followers you want? \\\\n\\\\nFollow me @dreadnstyn\\\\n\\\\n     \\\\ud83c\\\\uddf3\\\\ud83c\\\\uddec10k\\\\ud83c\\\\uddf3\\\\ud83c\\\\uddec\\\\n\\\\n20k\\\\n           30k\\\\n40k\\\\n                  50k\\\\n60k\\\\u2026\", \"timestamp\": \"2019-04-27T18:49:13\"}'\n",
      "b'{\"text\": \"RT @thronesfacts: #GameofThrones S8 E3\\'s the Battle of Winterfell took 55 nights just to film the fight scenes \\\\u2694\\\\ufe0f\\\\n\\\\nThe previous record was\\\\u2026\", \"timestamp\": \"2019-04-27T18:49:14\"}'\n",
      "b'{\"text\": \"RT @Lupita_Nyongo: Waiting for #gameofthrones tomorrow like... https://t.co/2rhFSU1Fgm\", \"timestamp\": \"2019-04-27T18:49:15\"}'\n",
      "b'{\"text\": \"RT @QBlueSkyQ: \\\\ud83c\\\\udfafDECLASS IS COMING #GameofThrones #TruthMatters #TRUTH #JUSTICE\\\\n\\\\n\\\\u27a1\\\\ufe0fDECLAS pre or post IG report? \\\\n\\\\u27a1\\\\ufe0f[Comey]  pre or post IG\\\\u2026\", \"timestamp\": \"2019-04-27T18:49:15\"}'\n",
      "b'{\"text\": \"RT @CultureCrave: This weekend summed up\\\\n\\\\n#AvengersEndgame #GameofThrones \\\\n(\\\\ud83c\\\\udfa8 via IG | Cole) https://t.co/Maulu181oR\", \"timestamp\": \"2019-04-27T18:49:16\"}'\n",
      "b'{\"text\": \"RT @Lupita_Nyongo: Waiting for #gameofthrones tomorrow like... https://t.co/2rhFSU1Fgm\", \"timestamp\": \"2019-04-27T18:49:17\"}'\n",
      "b'{\"text\": \"RT @_Saraphim: Before tomorrow\\\\u2019s brutal and heart wrenching episode I\\\\u2019d like to share this BTS clip of Sophie and Emilia taking about Jon!!\\\\u2026\", \"timestamp\": \"2019-04-27T18:49:17\"}'\n",
      "b'{\"text\": \"RT @Lupita_Nyongo: Waiting for #gameofthrones tomorrow like... https://t.co/2rhFSU1Fgm\", \"timestamp\": \"2019-04-27T18:49:20\"}'\n",
      "b'{\"text\": \"Oh jeez\", \"timestamp\": \"2019-04-27T18:49:21\"}'\n",
      "b'{\"text\": \"RT @GerthLee: \\\\ud83c\\\\udfb6High in the halls of the kings who were gone, Jenny would dance with her ghost\\\\ud83c\\\\udfb6 #GameOfThrones https://t.co/ZQlqmgpgWu\", \"timestamp\": \"2019-04-27T18:49:21\"}'\n"
     ]
    }
   ],
   "source": [
    "# Read the access credentials\n",
    "config = configparser.ConfigParser()\n",
    "config.read('twitter.txt')\n",
    "consumer_key = config['DEFAULT']['consumerKey']\n",
    "consumer_secret = config['DEFAULT']['consumerSecret']\n",
    "access_key = config['DEFAULT']['accessToken']\n",
    "access_secret = config['DEFAULT']['accessTokenSecret']\n",
    "\n",
    "auth = tweepy.OAuthHandler(consumer_key, consumer_secret)\n",
    "auth.set_access_token(access_key, access_secret)\n",
    "api = tweepy.API(auth)\n",
    "\n",
    "# Start extracting from the stream\n",
    "stream = tweepy.Stream(auth, listener=TwitterStreamListener(api))\n",
    "# Keywords we're following\n",
    "stream.filter(track=[\"#got\", \"#gameofthrones\", \"#winteriscoming\", \"#winterishere\", \"#winterfell\", \"#gotseason\", \"#asongoficeandfire\"], languages=['en'])"
   ]
  },
  {
   "cell_type": "code",
   "execution_count": null,
   "metadata": {},
   "outputs": [],
   "source": []
  }
 ],
 "metadata": {
  "kernelspec": {
   "display_name": "Python 3",
   "language": "python",
   "name": "python3"
  },
  "language_info": {
   "codemirror_mode": {
    "name": "ipython",
    "version": 3
   },
   "file_extension": ".py",
   "mimetype": "text/x-python",
   "name": "python",
   "nbconvert_exporter": "python",
   "pygments_lexer": "ipython3",
   "version": "3.6.5"
  }
 },
 "nbformat": 4,
 "nbformat_minor": 2
}
